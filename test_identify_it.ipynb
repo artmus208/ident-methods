{
 "cells": [
  {
   "cell_type": "code",
   "execution_count": 1,
   "metadata": {},
   "outputs": [],
   "source": [
    "import numpy as np\n",
    "from identify_it import IdentifyIt, Methods\n",
    "file_path = \"test_data/data_for_real.csv\"\n",
    "degree = 3\n",
    "x, y = np.loadtxt(file_path, delimiter=',', unpack=True)\n",
    "ident = IdentifyIt(x=x, y=y, degree=3, method=1)"
   ]
  }
 ],
 "metadata": {
  "kernelspec": {
   "display_name": "Python 3",
   "language": "python",
   "name": "python3"
  },
  "language_info": {
   "codemirror_mode": {
    "name": "ipython",
    "version": 3
   },
   "file_extension": ".py",
   "mimetype": "text/x-python",
   "name": "python",
   "nbconvert_exporter": "python",
   "pygments_lexer": "ipython3",
   "version": "3.10.4"
  },
  "orig_nbformat": 4
 },
 "nbformat": 4,
 "nbformat_minor": 2
}
