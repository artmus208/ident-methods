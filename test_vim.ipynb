{
 "cells": [
  {
   "cell_type": "code",
   "execution_count": 1,
   "metadata": {},
   "outputs": [],
   "source": [
    "import control as co\n",
    "import matplotlib.pyplot as plt\n",
    "import numpy as np\n",
    "import sympy as sp\n",
    "from identify_it import IdentifyIt\n",
    "\n",
    "def Graph(graphs):\n",
    "    plt.figure(figsize=(10, 5))\n",
    "    for i in graphs:\n",
    "        plt.plot(i[0],i[1], label = i[2],color = i[3]) \n",
    "    plt.ylabel('h(t)')\n",
    "    plt.xlabel('t, sec')\n",
    "    plt.legend(loc = 'upper right')\n",
    "    plt.grid(1)\n",
    "    plt.show()\n",
    "# Graph(([t,h,\"Задание\",'b'],[tt,y,\"Модель 3 порядка\",'r'], [tt1,y1,\"Модель 2 порядка\",'g']))"
   ]
  },
  {
   "cell_type": "code",
   "execution_count": null,
   "metadata": {},
   "outputs": [],
   "source": []
  }
 ],
 "metadata": {
  "kernelspec": {
   "display_name": "Python 3",
   "language": "python",
   "name": "python3"
  },
  "language_info": {
   "codemirror_mode": {
    "name": "ipython",
    "version": 3
   },
   "file_extension": ".py",
   "mimetype": "text/x-python",
   "name": "python",
   "nbconvert_exporter": "python",
   "pygments_lexer": "ipython3",
   "version": "3.11.3"
  },
  "orig_nbformat": 4
 },
 "nbformat": 4,
 "nbformat_minor": 2
}
